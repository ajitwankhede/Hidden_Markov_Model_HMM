{
 "cells": [
  {
   "cell_type": "markdown",
   "id": "a44a0826-0ca6-4d83-ad0f-58d986e7dcc5",
   "metadata": {},
   "source": [
    "## HHM with sklearn\n",
    "\n",
    "''' Markov model is define as a stochastic process whereas \n",
    "    the considerd probability of the future state depends upon the current process state\n",
    "'''\n"
   ]
  },
  {
   "cell_type": "markdown",
   "id": "04e4698b-0088-4b6a-b688-73ccd859865d",
   "metadata": {},
   "source": [
    "#### Example :\n",
    "\n",
    "Consider you want to make a model future probability that our cat is in the three-state given its current state.\n",
    "\n",
    "We consider the cat we have been very lazy. We define its state sleeping eating, Pooping. We set the initial probabilities to 45%,35%, and20% resp."
   ]
  },
  {
   "cell_type": "code",
   "execution_count": 1,
   "id": "c0324d5e-0132-45c8-a33f-a7361aa586ea",
   "metadata": {},
   "outputs": [],
   "source": [
    "import numpy as np\n",
    "import pandas as pd\n",
    "import networkx as nx # It is used to study large complex networks represented in form of graphs with nodes and edges\n",
    "import matplotlib.pyplot as plot\n"
   ]
  },
  {
   "cell_type": "code",
   "execution_count": 2,
   "id": "dccc5d65-82df-46f1-a47c-3db21b663d2a",
   "metadata": {},
   "outputs": [
    {
     "name": "stdout",
     "output_type": "stream",
     "text": [
      "sleeping    0.45\n",
      "eating      0.35\n",
      "pooping     0.20\n",
      "Name: states, dtype: float64\n",
      "1.0\n"
     ]
    }
   ],
   "source": [
    "states = ['sleeping', 'eating', 'pooping']\n",
    "pi = [0.45, 0.35, 0.2]\n",
    "\n",
    "states_space = pd.Series(pi, index= states, name = 'states')\n",
    "print(states_space)\n",
    "print(states_space.sum())"
   ]
  },
  {
   "cell_type": "markdown",
   "id": "c703547d-6278-46aa-b9a1-b09a91768e16",
   "metadata": {},
   "source": [
    "The next step is to define the probability simply in the same state or moving to a different state given the current state."
   ]
  },
  {
   "cell_type": "code",
   "execution_count": 3,
   "id": "b18543ec-5bb7-4b78-a01c-839d536c94d1",
   "metadata": {},
   "outputs": [
    {
     "name": "stdout",
     "output_type": "stream",
     "text": [
      "         sleeping eating pooping\n",
      "sleeping      0.4    0.2     0.4\n",
      "eating        0.4    0.4     0.2\n",
      "pooping       0.4    0.2     0.4\n"
     ]
    }
   ],
   "source": [
    "q_df = pd.DataFrame(columns = states, index = states)\n",
    "q_df.loc[states[0]] = [0.4, 0.2, 0.4]\n",
    "q_df.loc[states[1]] = [0.4, 0.4, 0.2]\n",
    "q_df.loc[states[2]] = [0.4, 0.2, 0.4]\n",
    "print(q_df)"
   ]
  },
  {
   "cell_type": "code",
   "execution_count": 4,
   "id": "76e63dbe-5d0a-4a96-a6f9-9561d799538a",
   "metadata": {},
   "outputs": [
    {
     "name": "stdout",
     "output_type": "stream",
     "text": [
      "\n",
      " [[0.4 0.2 0.4]\n",
      " [0.4 0.4 0.2]\n",
      " [0.4 0.2 0.4]] (3, 3) \n",
      "\n",
      "sleeping    1.0\n",
      "eating      1.0\n",
      "pooping     1.0\n",
      "dtype: float64\n"
     ]
    }
   ],
   "source": [
    "q_f = q_df.values\n",
    "print('\\n', q_f, q_f.shape, '\\n')\n",
    "print(q_df.sum(axis=1))"
   ]
  },
  {
   "cell_type": "markdown",
   "id": "fd3b4e8f-c0c3-4e27-84fb-8fe411cbb0a3",
   "metadata": {},
   "source": [
    "After doing the above process we have initial and transition probabilities and now we are creating a Markov diagram using Networkx package."
   ]
  },
  {
   "cell_type": "code",
   "execution_count": 5,
   "id": "3d255565-7a86-4a3e-b85b-15d9b8e7c13e",
   "metadata": {},
   "outputs": [
    {
     "data": {
      "text/html": [
       "<div>\n",
       "<style scoped>\n",
       "    .dataframe tbody tr th:only-of-type {\n",
       "        vertical-align: middle;\n",
       "    }\n",
       "\n",
       "    .dataframe tbody tr th {\n",
       "        vertical-align: top;\n",
       "    }\n",
       "\n",
       "    .dataframe thead th {\n",
       "        text-align: right;\n",
       "    }\n",
       "</style>\n",
       "<table border=\"1\" class=\"dataframe\">\n",
       "  <thead>\n",
       "    <tr style=\"text-align: right;\">\n",
       "      <th></th>\n",
       "      <th>sleeping</th>\n",
       "      <th>eating</th>\n",
       "      <th>pooping</th>\n",
       "    </tr>\n",
       "  </thead>\n",
       "  <tbody>\n",
       "    <tr>\n",
       "      <th>sleeping</th>\n",
       "      <td>0.4</td>\n",
       "      <td>0.2</td>\n",
       "      <td>0.4</td>\n",
       "    </tr>\n",
       "    <tr>\n",
       "      <th>eating</th>\n",
       "      <td>0.4</td>\n",
       "      <td>0.4</td>\n",
       "      <td>0.2</td>\n",
       "    </tr>\n",
       "    <tr>\n",
       "      <th>pooping</th>\n",
       "      <td>0.4</td>\n",
       "      <td>0.2</td>\n",
       "      <td>0.4</td>\n",
       "    </tr>\n",
       "  </tbody>\n",
       "</table>\n",
       "</div>"
      ],
      "text/plain": [
       "         sleeping eating pooping\n",
       "sleeping      0.4    0.2     0.4\n",
       "eating        0.4    0.4     0.2\n",
       "pooping       0.4    0.2     0.4"
      ]
     },
     "execution_count": 5,
     "metadata": {},
     "output_type": "execute_result"
    }
   ],
   "source": [
    "q_df"
   ]
  },
  {
   "cell_type": "code",
   "execution_count": 6,
   "id": "f3af31f6-07d7-49cc-9388-6bfd997ad204",
   "metadata": {},
   "outputs": [
    {
     "name": "stdout",
     "output_type": "stream",
     "text": [
      "{('eating', 'eating'): 0.4,\n",
      " ('eating', 'pooping'): 0.2,\n",
      " ('eating', 'sleeping'): 0.4,\n",
      " ('pooping', 'eating'): 0.2,\n",
      " ('pooping', 'pooping'): 0.4,\n",
      " ('pooping', 'sleeping'): 0.4,\n",
      " ('sleeping', 'eating'): 0.2,\n",
      " ('sleeping', 'pooping'): 0.4,\n",
      " ('sleeping', 'sleeping'): 0.4}\n"
     ]
    }
   ],
   "source": [
    "from pprint import pprint\n",
    "\n",
    "def _get_markov_edges(Q):\n",
    "    edge = {}\n",
    "    for column in Q.columns:\n",
    "        for index in Q.index:\n",
    "            edge[(index,column)] = Q.loc[index,column]\n",
    "    return edge\n",
    "\n",
    "edge_wt = _get_markov_edges(q_df)\n",
    "pprint(edge_wt)"
   ]
  },
  {
   "cell_type": "markdown",
   "id": "738282e7-fd46-4682-b4f9-48e6e2fcf61e",
   "metadata": {},
   "source": [
    "Now we can create a scikit learn Markov model graph.\n",
    "\n",
    "**Graph.add_nodes_from(states)** is used to create nodes corresponding to the states.\n",
    "\n",
    "**Graph.add_edge(tmp_origin, tmp_destination, weight=v, label=v)** edges represent the transition probabilities."
   ]
  },
  {
   "cell_type": "code",
   "execution_count": 7,
   "id": "48d64a66-3669-45b1-9b41-fef7b325157e",
   "metadata": {},
   "outputs": [
    {
     "name": "stdout",
     "output_type": "stream",
     "text": [
      "Nodes:\n",
      "['sleeping', 'eating', 'pooping']\n",
      "\n",
      "Edges:\n",
      "OutMultiEdgeDataView([('sleeping', 'sleeping', {'weight': 0.4, 'label': 0.4}), ('sleeping', 'eating', {'weight': 0.2, 'label': 0.2}), ('sleeping', 'pooping', {'weight': 0.4, 'label': 0.4}), ('eating', 'sleeping', {'weight': 0.4, 'label': 0.4}), ('eating', 'eating', {'weight': 0.4, 'label': 0.4}), ('eating', 'pooping', {'weight': 0.2, 'label': 0.2}), ('pooping', 'sleeping', {'weight': 0.4, 'label': 0.4}), ('pooping', 'eating', {'weight': 0.2, 'label': 0.2}), ('pooping', 'pooping', {'weight': 0.4, 'label': 0.4})])\n"
     ]
    }
   ],
   "source": [
    "Graph = nx.MultiDiGraph()\n",
    "\n",
    "\n",
    "Graph.add_nodes_from(states)\n",
    "print(f'Nodes:\\n{Graph.nodes()}\\n')\n",
    "\n",
    "\n",
    "for k, v in edge_wt.items():\n",
    "    tmp_origin, tmp_destination = k[0], k[1]\n",
    "    Graph.add_edge(tmp_origin, tmp_destination, weight=v, label=v)\n",
    "print(f'Edges:')\n",
    "pprint(Graph.edges(data=True))    \n"
   ]
  },
  {
   "cell_type": "code",
   "execution_count": 8,
   "id": "db3287be-c948-4c9f-bf3b-5b649ee8f3f7",
   "metadata": {},
   "outputs": [
    {
     "data": {
      "text/plain": [
       "<networkx.classes.multidigraph.MultiDiGraph at 0x1f34dbd7130>"
      ]
     },
     "execution_count": 8,
     "metadata": {},
     "output_type": "execute_result"
    }
   ],
   "source": [
    "Graph"
   ]
  },
  {
   "cell_type": "code",
   "execution_count": 9,
   "id": "1520ec06-7a1a-4378-a841-d010b99d78ee",
   "metadata": {
    "tags": []
   },
   "outputs": [
    {
     "ename": "TypeError",
     "evalue": "argument of type 'float' is not iterable",
     "output_type": "error",
     "traceback": [
      "\u001b[1;31m---------------------------------------------------------------------------\u001b[0m",
      "\u001b[1;31mTypeError\u001b[0m                                 Traceback (most recent call last)",
      "Cell \u001b[1;32mIn[9], line 7\u001b[0m\n\u001b[0;32m      5\u001b[0m edge_labels \u001b[38;5;241m=\u001b[39m {(n1,n2):d[\u001b[38;5;124m'\u001b[39m\u001b[38;5;124mlabel\u001b[39m\u001b[38;5;124m'\u001b[39m] \u001b[38;5;28;01mfor\u001b[39;00m n1,n2,d \u001b[38;5;129;01min\u001b[39;00m Graph\u001b[38;5;241m.\u001b[39medges(data\u001b[38;5;241m=\u001b[39m\u001b[38;5;28;01mTrue\u001b[39;00m)}\n\u001b[0;32m      6\u001b[0m nx\u001b[38;5;241m.\u001b[39mdraw_networkx_edge_labels(Graph , position, edge_labels\u001b[38;5;241m=\u001b[39medge_labels)\n\u001b[1;32m----> 7\u001b[0m \u001b[43mnx\u001b[49m\u001b[38;5;241;43m.\u001b[39;49m\u001b[43mdrawing\u001b[49m\u001b[38;5;241;43m.\u001b[39;49m\u001b[43mnx_pydot\u001b[49m\u001b[38;5;241;43m.\u001b[39;49m\u001b[43mwrite_dot\u001b[49m\u001b[43m(\u001b[49m\u001b[43mGraph\u001b[49m\u001b[43m,\u001b[49m\u001b[43m \u001b[49m\u001b[38;5;124;43m'\u001b[39;49m\u001b[38;5;124;43mpet_dog_markov.dot\u001b[39;49m\u001b[38;5;124;43m'\u001b[39;49m\u001b[43m)\u001b[49m\n",
      "File \u001b[1;32m~\\anaconda3\\lib\\site-packages\\networkx\\utils\\decorators.py:845\u001b[0m, in \u001b[0;36margmap.__call__.<locals>.func\u001b[1;34m(_argmap__wrapper, *args, **kwargs)\u001b[0m\n\u001b[0;32m    844\u001b[0m \u001b[38;5;28;01mdef\u001b[39;00m \u001b[38;5;21mfunc\u001b[39m(\u001b[38;5;241m*\u001b[39margs, __wrapper\u001b[38;5;241m=\u001b[39m\u001b[38;5;28;01mNone\u001b[39;00m, \u001b[38;5;241m*\u001b[39m\u001b[38;5;241m*\u001b[39mkwargs):\n\u001b[1;32m--> 845\u001b[0m     \u001b[38;5;28;01mreturn\u001b[39;00m argmap\u001b[38;5;241m.\u001b[39m_lazy_compile(__wrapper)(\u001b[38;5;241m*\u001b[39margs, \u001b[38;5;241m*\u001b[39m\u001b[38;5;241m*\u001b[39mkwargs)\n",
      "File \u001b[1;32m<class 'networkx.utils.decorators.argmap'> compilation 5:5\u001b[0m, in \u001b[0;36margmap_write_dot_1\u001b[1;34m(G, path)\u001b[0m\n\u001b[0;32m      3\u001b[0m \u001b[38;5;28;01mimport\u001b[39;00m \u001b[38;5;21;01mgzip\u001b[39;00m\n\u001b[0;32m      4\u001b[0m \u001b[38;5;28;01mimport\u001b[39;00m \u001b[38;5;21;01minspect\u001b[39;00m\n\u001b[1;32m----> 5\u001b[0m \u001b[38;5;28;01mimport\u001b[39;00m \u001b[38;5;21;01mitertools\u001b[39;00m\n\u001b[0;32m      6\u001b[0m \u001b[38;5;28;01mimport\u001b[39;00m \u001b[38;5;21;01mre\u001b[39;00m\n\u001b[0;32m      7\u001b[0m \u001b[38;5;28;01mfrom\u001b[39;00m \u001b[38;5;21;01mcollections\u001b[39;00m \u001b[38;5;28;01mimport\u001b[39;00m defaultdict\n",
      "File \u001b[1;32m~\\anaconda3\\lib\\site-packages\\networkx\\drawing\\nx_pydot.py:51\u001b[0m, in \u001b[0;36mwrite_dot\u001b[1;34m(G, path)\u001b[0m\n\u001b[0;32m     44\u001b[0m msg \u001b[38;5;241m=\u001b[39m (\n\u001b[0;32m     45\u001b[0m     \u001b[38;5;124m\"\u001b[39m\u001b[38;5;124mnx.nx_pydot.write_dot depends on the pydot package, which has\u001b[39m\u001b[38;5;124m\"\u001b[39m\n\u001b[0;32m     46\u001b[0m     \u001b[38;5;124m\"\u001b[39m\u001b[38;5;124mknown issues and is not actively maintained. Consider using\u001b[39m\u001b[38;5;124m\"\u001b[39m\n\u001b[0;32m     47\u001b[0m     \u001b[38;5;124m\"\u001b[39m\u001b[38;5;124mnx.nx_agraph.write_dot instead.\u001b[39m\u001b[38;5;130;01m\\n\u001b[39;00m\u001b[38;5;130;01m\\n\u001b[39;00m\u001b[38;5;124m\"\u001b[39m\n\u001b[0;32m     48\u001b[0m     \u001b[38;5;124m\"\u001b[39m\u001b[38;5;124mSee https://github.com/networkx/networkx/issues/5723\u001b[39m\u001b[38;5;124m\"\u001b[39m\n\u001b[0;32m     49\u001b[0m )\n\u001b[0;32m     50\u001b[0m warnings\u001b[38;5;241m.\u001b[39mwarn(msg, \u001b[38;5;167;01mPendingDeprecationWarning\u001b[39;00m, stacklevel\u001b[38;5;241m=\u001b[39m\u001b[38;5;241m2\u001b[39m)\n\u001b[1;32m---> 51\u001b[0m P \u001b[38;5;241m=\u001b[39m \u001b[43mto_pydot\u001b[49m\u001b[43m(\u001b[49m\u001b[43mG\u001b[49m\u001b[43m)\u001b[49m\n\u001b[0;32m     52\u001b[0m path\u001b[38;5;241m.\u001b[39mwrite(P\u001b[38;5;241m.\u001b[39mto_string())\n\u001b[0;32m     53\u001b[0m \u001b[38;5;28;01mreturn\u001b[39;00m\n",
      "File \u001b[1;32m~\\anaconda3\\lib\\site-packages\\networkx\\drawing\\nx_pydot.py:279\u001b[0m, in \u001b[0;36mto_pydot\u001b[1;34m(N)\u001b[0m\n\u001b[0;32m    273\u001b[0m str_edgedata \u001b[38;5;241m=\u001b[39m {\u001b[38;5;28mstr\u001b[39m(k): \u001b[38;5;28mstr\u001b[39m(v) \u001b[38;5;28;01mfor\u001b[39;00m k, v \u001b[38;5;129;01min\u001b[39;00m edgedata\u001b[38;5;241m.\u001b[39mitems() \u001b[38;5;28;01mif\u001b[39;00m k \u001b[38;5;241m!=\u001b[39m \u001b[38;5;124m\"\u001b[39m\u001b[38;5;124mkey\u001b[39m\u001b[38;5;124m\"\u001b[39m}\n\u001b[0;32m    274\u001b[0m u, v \u001b[38;5;241m=\u001b[39m \u001b[38;5;28mstr\u001b[39m(u), \u001b[38;5;28mstr\u001b[39m(v)\n\u001b[0;32m    275\u001b[0m raise_error \u001b[38;5;241m=\u001b[39m (\n\u001b[0;32m    276\u001b[0m     _check_colon_quotes(u)\n\u001b[0;32m    277\u001b[0m     \u001b[38;5;129;01mor\u001b[39;00m _check_colon_quotes(v)\n\u001b[0;32m    278\u001b[0m     \u001b[38;5;129;01mor\u001b[39;00m (\n\u001b[1;32m--> 279\u001b[0m         \u001b[38;5;28;43many\u001b[39;49m\u001b[43m(\u001b[49m\n\u001b[0;32m    280\u001b[0m \u001b[43m            \u001b[49m\u001b[43m(\u001b[49m\u001b[43m_check_colon_quotes\u001b[49m\u001b[43m(\u001b[49m\u001b[43mk\u001b[49m\u001b[43m)\u001b[49m\u001b[43m \u001b[49m\u001b[38;5;129;43;01mor\u001b[39;49;00m\u001b[43m \u001b[49m\u001b[43m_check_colon_quotes\u001b[49m\u001b[43m(\u001b[49m\u001b[43mv\u001b[49m\u001b[43m)\u001b[49m\u001b[43m)\u001b[49m\n\u001b[0;32m    281\u001b[0m \u001b[43m            \u001b[49m\u001b[38;5;28;43;01mfor\u001b[39;49;00m\u001b[43m \u001b[49m\u001b[43mk\u001b[49m\u001b[43m,\u001b[49m\u001b[43m \u001b[49m\u001b[43mv\u001b[49m\u001b[43m \u001b[49m\u001b[38;5;129;43;01min\u001b[39;49;00m\u001b[43m \u001b[49m\u001b[43medgedata\u001b[49m\u001b[38;5;241;43m.\u001b[39;49m\u001b[43mitems\u001b[49m\u001b[43m(\u001b[49m\u001b[43m)\u001b[49m\n\u001b[0;32m    282\u001b[0m \u001b[43m        \u001b[49m\u001b[43m)\u001b[49m\n\u001b[0;32m    283\u001b[0m     )\n\u001b[0;32m    284\u001b[0m )\n\u001b[0;32m    285\u001b[0m \u001b[38;5;28;01mif\u001b[39;00m raise_error:\n\u001b[0;32m    286\u001b[0m     \u001b[38;5;28;01mraise\u001b[39;00m \u001b[38;5;167;01mValueError\u001b[39;00m(\n\u001b[0;32m    287\u001b[0m         \u001b[38;5;124mf\u001b[39m\u001b[38;5;124m'\u001b[39m\u001b[38;5;124mNode names and attributes should not contain \u001b[39m\u001b[38;5;124m\"\u001b[39m\u001b[38;5;124m:\u001b[39m\u001b[38;5;124m\"\u001b[39m\u001b[38;5;124m unless they are quoted with \u001b[39m\u001b[38;5;124m\"\u001b[39m\u001b[38;5;124m\"\u001b[39m\u001b[38;5;124m.\u001b[39m\u001b[38;5;130;01m\\\u001b[39;00m\n\u001b[0;32m    288\u001b[0m \u001b[38;5;124m        For example the string \u001b[39m\u001b[38;5;130;01m\\'\u001b[39;00m\u001b[38;5;124mattribute:data1\u001b[39m\u001b[38;5;130;01m\\'\u001b[39;00m\u001b[38;5;124m should be written as \u001b[39m\u001b[38;5;130;01m\\'\u001b[39;00m\u001b[38;5;124m\"\u001b[39m\u001b[38;5;124mattribute:data1\u001b[39m\u001b[38;5;124m\"\u001b[39m\u001b[38;5;130;01m\\'\u001b[39;00m\u001b[38;5;124m.\u001b[39m\u001b[38;5;130;01m\\\u001b[39;00m\n\u001b[0;32m    289\u001b[0m \u001b[38;5;124m        Please refer https://github.com/pydot/pydot/issues/258\u001b[39m\u001b[38;5;124m'\u001b[39m\n\u001b[0;32m    290\u001b[0m     )\n",
      "File \u001b[1;32m~\\anaconda3\\lib\\site-packages\\networkx\\drawing\\nx_pydot.py:280\u001b[0m, in \u001b[0;36m<genexpr>\u001b[1;34m(.0)\u001b[0m\n\u001b[0;32m    273\u001b[0m str_edgedata \u001b[38;5;241m=\u001b[39m {\u001b[38;5;28mstr\u001b[39m(k): \u001b[38;5;28mstr\u001b[39m(v) \u001b[38;5;28;01mfor\u001b[39;00m k, v \u001b[38;5;129;01min\u001b[39;00m edgedata\u001b[38;5;241m.\u001b[39mitems() \u001b[38;5;28;01mif\u001b[39;00m k \u001b[38;5;241m!=\u001b[39m \u001b[38;5;124m\"\u001b[39m\u001b[38;5;124mkey\u001b[39m\u001b[38;5;124m\"\u001b[39m}\n\u001b[0;32m    274\u001b[0m u, v \u001b[38;5;241m=\u001b[39m \u001b[38;5;28mstr\u001b[39m(u), \u001b[38;5;28mstr\u001b[39m(v)\n\u001b[0;32m    275\u001b[0m raise_error \u001b[38;5;241m=\u001b[39m (\n\u001b[0;32m    276\u001b[0m     _check_colon_quotes(u)\n\u001b[0;32m    277\u001b[0m     \u001b[38;5;129;01mor\u001b[39;00m _check_colon_quotes(v)\n\u001b[0;32m    278\u001b[0m     \u001b[38;5;129;01mor\u001b[39;00m (\n\u001b[0;32m    279\u001b[0m         \u001b[38;5;28many\u001b[39m(\n\u001b[1;32m--> 280\u001b[0m             (_check_colon_quotes(k) \u001b[38;5;129;01mor\u001b[39;00m \u001b[43m_check_colon_quotes\u001b[49m\u001b[43m(\u001b[49m\u001b[43mv\u001b[49m\u001b[43m)\u001b[49m)\n\u001b[0;32m    281\u001b[0m             \u001b[38;5;28;01mfor\u001b[39;00m k, v \u001b[38;5;129;01min\u001b[39;00m edgedata\u001b[38;5;241m.\u001b[39mitems()\n\u001b[0;32m    282\u001b[0m         )\n\u001b[0;32m    283\u001b[0m     )\n\u001b[0;32m    284\u001b[0m )\n\u001b[0;32m    285\u001b[0m \u001b[38;5;28;01mif\u001b[39;00m raise_error:\n\u001b[0;32m    286\u001b[0m     \u001b[38;5;28;01mraise\u001b[39;00m \u001b[38;5;167;01mValueError\u001b[39;00m(\n\u001b[0;32m    287\u001b[0m         \u001b[38;5;124mf\u001b[39m\u001b[38;5;124m'\u001b[39m\u001b[38;5;124mNode names and attributes should not contain \u001b[39m\u001b[38;5;124m\"\u001b[39m\u001b[38;5;124m:\u001b[39m\u001b[38;5;124m\"\u001b[39m\u001b[38;5;124m unless they are quoted with \u001b[39m\u001b[38;5;124m\"\u001b[39m\u001b[38;5;124m\"\u001b[39m\u001b[38;5;124m.\u001b[39m\u001b[38;5;130;01m\\\u001b[39;00m\n\u001b[0;32m    288\u001b[0m \u001b[38;5;124m        For example the string \u001b[39m\u001b[38;5;130;01m\\'\u001b[39;00m\u001b[38;5;124mattribute:data1\u001b[39m\u001b[38;5;130;01m\\'\u001b[39;00m\u001b[38;5;124m should be written as \u001b[39m\u001b[38;5;130;01m\\'\u001b[39;00m\u001b[38;5;124m\"\u001b[39m\u001b[38;5;124mattribute:data1\u001b[39m\u001b[38;5;124m\"\u001b[39m\u001b[38;5;130;01m\\'\u001b[39;00m\u001b[38;5;124m.\u001b[39m\u001b[38;5;130;01m\\\u001b[39;00m\n\u001b[0;32m    289\u001b[0m \u001b[38;5;124m        Please refer https://github.com/pydot/pydot/issues/258\u001b[39m\u001b[38;5;124m'\u001b[39m\n\u001b[0;32m    290\u001b[0m     )\n",
      "File \u001b[1;32m~\\anaconda3\\lib\\site-packages\\networkx\\drawing\\nx_pydot.py:199\u001b[0m, in \u001b[0;36m_check_colon_quotes\u001b[1;34m(s)\u001b[0m\n\u001b[0;32m    195\u001b[0m \u001b[38;5;28;01mdef\u001b[39;00m \u001b[38;5;21m_check_colon_quotes\u001b[39m(s):\n\u001b[0;32m    196\u001b[0m     \u001b[38;5;66;03m# A quick helper function to check if a string has a colon in it\u001b[39;00m\n\u001b[0;32m    197\u001b[0m     \u001b[38;5;66;03m# and if it is quoted properly with double quotes.\u001b[39;00m\n\u001b[0;32m    198\u001b[0m     \u001b[38;5;66;03m# refer https://github.com/pydot/pydot/issues/258\u001b[39;00m\n\u001b[1;32m--> 199\u001b[0m     \u001b[38;5;28;01mreturn\u001b[39;00m \u001b[38;5;124;43m\"\u001b[39;49m\u001b[38;5;124;43m:\u001b[39;49m\u001b[38;5;124;43m\"\u001b[39;49m\u001b[43m \u001b[49m\u001b[38;5;129;43;01min\u001b[39;49;00m\u001b[43m \u001b[49m\u001b[43ms\u001b[49m \u001b[38;5;129;01mand\u001b[39;00m (s[\u001b[38;5;241m0\u001b[39m] \u001b[38;5;241m!=\u001b[39m \u001b[38;5;124m'\u001b[39m\u001b[38;5;124m\"\u001b[39m\u001b[38;5;124m'\u001b[39m \u001b[38;5;129;01mor\u001b[39;00m s[\u001b[38;5;241m-\u001b[39m\u001b[38;5;241m1\u001b[39m] \u001b[38;5;241m!=\u001b[39m \u001b[38;5;124m'\u001b[39m\u001b[38;5;124m\"\u001b[39m\u001b[38;5;124m'\u001b[39m)\n",
      "\u001b[1;31mTypeError\u001b[0m: argument of type 'float' is not iterable"
     ]
    },
    {
     "data": {
      "image/png": "[encoded data removed]",
      "text/plain": [
       "<Figure size 640x480 with 1 Axes>"
      ]
     },
     "metadata": {},
     "output_type": "display_data"
    }
   ],
   "source": [
    "position = nx.drawing.nx_agraph.graphviz_layout(Graph, prog='dot')\n",
    "nx.draw_networkx(Graph, position)\n",
    "\n",
    "\n",
    "edge_labels = {(n1,n2):d['label'] for n1,n2,d in Graph.edges(data=True)}\n",
    "nx.draw_networkx_edge_labels(Graph , position, edge_labels=edge_labels)\n",
    "nx.drawing.nx_pydot.write_dot(Graph, 'pet_dog_markov.dot')"
   ]
  },
  {
   "cell_type": "markdown",
   "id": "4617ecd6-5a25-47e0-88b7-5c2c12d87882",
   "metadata": {},
   "source": [
    "In this section, we will learn about the scikit learn model hidden and who made the Markov model hidden.\n",
    "\n",
    "Consider that our cat is acting strangely and we find that why they act like that our cat behavior is due to sickness or simply they act like that."
   ]
  },
  {
   "cell_type": "markdown",
   "id": "72ca89b8-6968-4d16-a7b2-e08533958f1b",
   "metadata": {},
   "source": [
    "In this, we create a space in which we can see that our cat is healthy or sick."
   ]
  },
  {
   "cell_type": "code",
   "execution_count": 10,
   "id": "f8531051-c180-4302-b43b-088616e40059",
   "metadata": {},
   "outputs": [
    {
     "name": "stdout",
     "output_type": "stream",
     "text": [
      "healthy    0.55\n",
      "sick       0.45\n",
      "Name: states, dtype: float64\n",
      "\n",
      " 1.0\n"
     ]
    }
   ],
   "source": [
    "hidden_state = ['healthy', 'sick']\n",
    "pi = [0.55, 0.45]\n",
    "state_space = pd.Series(pi, index=hidden_state, name='states')\n",
    "print(state_space)\n",
    "print('\\n', state_space.sum())"
   ]
  },
  {
   "cell_type": "markdown",
   "id": "08ed9b88-1d76-456a-9435-1c1d4c023bda",
   "metadata": {},
   "source": [
    "In the next step, we are creating a transition matrix for the hidden state."
   ]
  },
  {
   "cell_type": "code",
   "execution_count": 11,
   "id": "7be0c77f-d34f-43de-843f-fcf253e06a76",
   "metadata": {},
   "outputs": [
    {
     "name": "stdout",
     "output_type": "stream",
     "text": [
      "        healthy sick\n",
      "healthy     0.7  0.3\n",
      "sick        0.4  0.6\n",
      "\n",
      " [[0.7 0.3]\n",
      " [0.4 0.6]] (2, 2) \n",
      "\n",
      "healthy    1.0\n",
      "sick       1.0\n",
      "dtype: float64\n"
     ]
    }
   ],
   "source": [
    "a1_df = pd.DataFrame(columns=hidden_state, index=hidden_state)\n",
    "a1_df.loc[hidden_state[0]] = [0.7, 0.3]\n",
    "a1_df.loc[hidden_state[1]] = [0.4, 0.6]\n",
    "\n",
    "print(a1_df)\n",
    "\n",
    "a1 = a1_df.values\n",
    "print('\\n', a1, a1.shape, '\\n')\n",
    "print(a1_df.sum(axis=1))"
   ]
  },
  {
   "cell_type": "markdown",
   "id": "8a62d4f6-826d-40c7-89e3-27cc70d1667e",
   "metadata": {},
   "source": [
    "Here in this step, we create an emission and observation matrix. The matrix we are creating is the size of the axb. a is the number of hidden states and b is the number of observable states."
   ]
  },
  {
   "cell_type": "code",
   "execution_count": 12,
   "id": "234ee2fd-5274-47ea-a624-6767088bb71c",
   "metadata": {},
   "outputs": [
    {
     "name": "stdout",
     "output_type": "stream",
     "text": [
      "        sleeping eating pooping\n",
      "healthy      0.3    0.5     0.2\n",
      "sick         0.3    0.3     0.4\n",
      "\n",
      " [[0.3 0.5 0.2]\n",
      " [0.3 0.3 0.4]] (2, 3) \n",
      "\n",
      "healthy    1.0\n",
      "sick       1.0\n",
      "dtype: float64\n"
     ]
    }
   ],
   "source": [
    "observable_state = states\n",
    "\n",
    "b1_df = pd.DataFrame(columns=observable_state, index=hidden_state)\n",
    "b1_df.loc[hidden_state[0]] = [0.3, 0.5, 0.2]\n",
    "b1_df.loc[hidden_state[1]] = [0.3, 0.3, 0.4]\n",
    "\n",
    "print(b1_df)\n",
    "\n",
    "b1 = b1_df.values\n",
    "print('\\n', b1, b1.shape, '\\n')\n",
    "print(b1_df.sum(axis=1))"
   ]
  },
  {
   "cell_type": "markdown",
   "id": "6f8abd9a-7627-45af-a0a5-62bdf941f5b7",
   "metadata": {},
   "source": [
    "In this step, we are creating the graph edges and the graph object from which we can create a complete graph."
   ]
  },
  {
   "cell_type": "code",
   "execution_count": 13,
   "id": "9b924bd7-481d-485a-9efd-3fcb63edd734",
   "metadata": {},
   "outputs": [
    {
     "name": "stdout",
     "output_type": "stream",
     "text": [
      "{('healthy', 'healthy'): 0.7,\n",
      " ('healthy', 'sick'): 0.3,\n",
      " ('sick', 'healthy'): 0.4,\n",
      " ('sick', 'sick'): 0.6}\n",
      "{('healthy', 'eating'): 0.5,\n",
      " ('healthy', 'pooping'): 0.2,\n",
      " ('healthy', 'sleeping'): 0.3,\n",
      " ('sick', 'eating'): 0.3,\n",
      " ('sick', 'pooping'): 0.4,\n",
      " ('sick', 'sleeping'): 0.3}\n"
     ]
    }
   ],
   "source": [
    "hide_edges_wt = _get_markov_edges(a1_df)\n",
    "pprint(hide_edges_wt)\n",
    "\n",
    "emit_edges_wt = _get_markov_edges(b1_df)\n",
    "pprint(emit_edges_wt)"
   ]
  },
  {
   "cell_type": "markdown",
   "id": "e1069144-def6-4758-a13e-ab3fbc5f7fac",
   "metadata": {},
   "source": [
    "Here we can plot the complete graph of the hidden Markov model."
   ]
  },
  {
   "cell_type": "code",
   "execution_count": 15,
   "id": "97c5af26-9672-4694-b38b-7183f25296a2",
   "metadata": {},
   "outputs": [
    {
     "name": "stdout",
     "output_type": "stream",
     "text": [
      "Nodes:\n",
      "['healthy', 'sick']\n",
      "\n",
      "Edges:\n",
      "OutMultiEdgeDataView([('healthy', 'healthy', {'weight': 0.7, 'label': 0.7}), ('healthy', 'sick', {'weight': 0.3, 'label': 0.3}), ('healthy', 'sleeping', {'weight': 0.3, 'label': 0.3}), ('healthy', 'eating', {'weight': 0.5, 'label': 0.5}), ('healthy', 'pooping', {'weight': 0.2, 'label': 0.2}), ('sick', 'healthy', {'weight': 0.4, 'label': 0.4}), ('sick', 'sick', {'weight': 0.6, 'label': 0.6}), ('sick', 'sleeping', {'weight': 0.3, 'label': 0.3}), ('sick', 'eating', {'weight': 0.3, 'label': 0.3}), ('sick', 'pooping', {'weight': 0.4, 'label': 0.4})])\n"
     ]
    },
    {
     "data": {
      "image/png": "[encoded data removed]",
      "text/plain": [
       "<Figure size 640x480 with 1 Axes>"
      ]
     },
     "metadata": {},
     "output_type": "display_data"
    }
   ],
   "source": [
    "G = nx.MultiDiGraph()\n",
    "\n",
    "\n",
    "G.add_nodes_from(hidden_state)\n",
    "print(f'Nodes:\\n{G.nodes()}\\n')\n",
    "\n",
    "for k, v in hide_edges_wt.items():\n",
    "    tmp_origin, tmp_destination = k[0], k[1]\n",
    "    G.add_edge(tmp_origin, tmp_destination, weight=v, label=v)\n",
    "\n",
    "\n",
    "for k, v in emit_edges_wt.items():\n",
    "    tmp_origin, tmp_destination = k[0], k[1]\n",
    "    G.add_edge(tmp_origin, tmp_destination, weight=v, label=v)\n",
    "    \n",
    "print(f'Edges:')\n",
    "pprint(G.edges(data=True))    \n",
    "\n",
    "pos = nx.drawing.nx_agraph.graphviz_layout(G, prog='neato')\n",
    "nx.draw_networkx(G, pos)"
   ]
  },
  {
   "cell_type": "markdown",
   "id": "8077759b-a23b-4313-aaa4-760a238eff4e",
   "metadata": {},
   "source": [
    "In this section, we will learn about scikit learn hidden Markov model example in python.\n",
    "\n",
    "The scikit learn hidden Markov model is a process whereas the future probability of future depends upon the current state."
   ]
  },
  {
   "cell_type": "code",
   "execution_count": 17,
   "id": "44747934-bbbb-4777-a152-fa016efcad0c",
   "metadata": {},
   "outputs": [
    {
     "name": "stdout",
     "output_type": "stream",
     "text": [
      "sleeping    0.45\n",
      "eating      0.35\n",
      "pooping     0.20\n",
      "Name: states, dtype: float64\n",
      "1.0\n",
      "         sleeping eating pooping\n",
      "sleeping      0.4    0.2     0.4\n",
      "eating        0.4    0.4     0.2\n",
      "pooping       0.4    0.2     0.4\n",
      "\n",
      " [[0.4 0.2 0.4]\n",
      " [0.4 0.4 0.2]\n",
      " [0.4 0.2 0.4]] (3, 3) \n",
      "\n",
      "sleeping    1.0\n",
      "eating      1.0\n",
      "pooping     1.0\n",
      "dtype: float64\n",
      "{('eating', 'eating'): 0.4,\n",
      " ('eating', 'pooping'): 0.2,\n",
      " ('eating', 'sleeping'): 0.4,\n",
      " ('pooping', 'eating'): 0.2,\n",
      " ('pooping', 'pooping'): 0.4,\n",
      " ('pooping', 'sleeping'): 0.4,\n",
      " ('sleeping', 'eating'): 0.2,\n",
      " ('sleeping', 'pooping'): 0.4,\n",
      " ('sleeping', 'sleeping'): 0.4}\n",
      "Nodes:\n",
      "['sleeping', 'eating', 'pooping']\n",
      "\n",
      "Edges:\n",
      "OutMultiEdgeDataView([('sleeping', 'sleeping', {'weight': 0.4, 'label': 0.4}), ('sleeping', 'eating', {'weight': 0.2, 'label': 0.2}), ('sleeping', 'pooping', {'weight': 0.4, 'label': 0.4}), ('eating', 'sleeping', {'weight': 0.4, 'label': 0.4}), ('eating', 'eating', {'weight': 0.4, 'label': 0.4}), ('eating', 'pooping', {'weight': 0.2, 'label': 0.2}), ('pooping', 'sleeping', {'weight': 0.4, 'label': 0.4}), ('pooping', 'eating', {'weight': 0.2, 'label': 0.2}), ('pooping', 'pooping', {'weight': 0.4, 'label': 0.4})])\n"
     ]
    },
    {
     "ename": "TypeError",
     "evalue": "argument of type 'float' is not iterable",
     "output_type": "error",
     "traceback": [
      "\u001b[1;31m---------------------------------------------------------------------------\u001b[0m",
      "\u001b[1;31mTypeError\u001b[0m                                 Traceback (most recent call last)",
      "Cell \u001b[1;32mIn[17], line 52\u001b[0m\n\u001b[0;32m     50\u001b[0m edge_labels \u001b[38;5;241m=\u001b[39m {(n1,n2):d[\u001b[38;5;124m'\u001b[39m\u001b[38;5;124mlabel\u001b[39m\u001b[38;5;124m'\u001b[39m] \u001b[38;5;28;01mfor\u001b[39;00m n1,n2,d \u001b[38;5;129;01min\u001b[39;00m Graph\u001b[38;5;241m.\u001b[39medges(data\u001b[38;5;241m=\u001b[39m\u001b[38;5;28;01mTrue\u001b[39;00m)}\n\u001b[0;32m     51\u001b[0m nx\u001b[38;5;241m.\u001b[39mdraw_networkx_edge_labels(Graph , position, edge_labels\u001b[38;5;241m=\u001b[39medge_labels)\n\u001b[1;32m---> 52\u001b[0m \u001b[43mnx\u001b[49m\u001b[38;5;241;43m.\u001b[39;49m\u001b[43mdrawing\u001b[49m\u001b[38;5;241;43m.\u001b[39;49m\u001b[43mnx_pydot\u001b[49m\u001b[38;5;241;43m.\u001b[39;49m\u001b[43mwrite_dot\u001b[49m\u001b[43m(\u001b[49m\u001b[43mGraph\u001b[49m\u001b[43m,\u001b[49m\u001b[43m \u001b[49m\u001b[38;5;124;43m'\u001b[39;49m\u001b[38;5;124;43mpet_dog_markov.dot\u001b[39;49m\u001b[38;5;124;43m'\u001b[39;49m\u001b[43m)\u001b[49m\n",
      "File \u001b[1;32m<class 'networkx.utils.decorators.argmap'> compilation 5:5\u001b[0m, in \u001b[0;36margmap_write_dot_1\u001b[1;34m(G, path)\u001b[0m\n\u001b[0;32m      3\u001b[0m \u001b[38;5;28;01mimport\u001b[39;00m \u001b[38;5;21;01mgzip\u001b[39;00m\n\u001b[0;32m      4\u001b[0m \u001b[38;5;28;01mimport\u001b[39;00m \u001b[38;5;21;01minspect\u001b[39;00m\n\u001b[1;32m----> 5\u001b[0m \u001b[38;5;28;01mimport\u001b[39;00m \u001b[38;5;21;01mitertools\u001b[39;00m\n\u001b[0;32m      6\u001b[0m \u001b[38;5;28;01mimport\u001b[39;00m \u001b[38;5;21;01mre\u001b[39;00m\n\u001b[0;32m      7\u001b[0m \u001b[38;5;28;01mfrom\u001b[39;00m \u001b[38;5;21;01mcollections\u001b[39;00m \u001b[38;5;28;01mimport\u001b[39;00m defaultdict\n",
      "File \u001b[1;32m~\\anaconda3\\lib\\site-packages\\networkx\\drawing\\nx_pydot.py:51\u001b[0m, in \u001b[0;36mwrite_dot\u001b[1;34m(G, path)\u001b[0m\n\u001b[0;32m     44\u001b[0m msg \u001b[38;5;241m=\u001b[39m (\n\u001b[0;32m     45\u001b[0m     \u001b[38;5;124m\"\u001b[39m\u001b[38;5;124mnx.nx_pydot.write_dot depends on the pydot package, which has\u001b[39m\u001b[38;5;124m\"\u001b[39m\n\u001b[0;32m     46\u001b[0m     \u001b[38;5;124m\"\u001b[39m\u001b[38;5;124mknown issues and is not actively maintained. Consider using\u001b[39m\u001b[38;5;124m\"\u001b[39m\n\u001b[0;32m     47\u001b[0m     \u001b[38;5;124m\"\u001b[39m\u001b[38;5;124mnx.nx_agraph.write_dot instead.\u001b[39m\u001b[38;5;130;01m\\n\u001b[39;00m\u001b[38;5;130;01m\\n\u001b[39;00m\u001b[38;5;124m\"\u001b[39m\n\u001b[0;32m     48\u001b[0m     \u001b[38;5;124m\"\u001b[39m\u001b[38;5;124mSee https://github.com/networkx/networkx/issues/5723\u001b[39m\u001b[38;5;124m\"\u001b[39m\n\u001b[0;32m     49\u001b[0m )\n\u001b[0;32m     50\u001b[0m warnings\u001b[38;5;241m.\u001b[39mwarn(msg, \u001b[38;5;167;01mPendingDeprecationWarning\u001b[39;00m, stacklevel\u001b[38;5;241m=\u001b[39m\u001b[38;5;241m2\u001b[39m)\n\u001b[1;32m---> 51\u001b[0m P \u001b[38;5;241m=\u001b[39m \u001b[43mto_pydot\u001b[49m\u001b[43m(\u001b[49m\u001b[43mG\u001b[49m\u001b[43m)\u001b[49m\n\u001b[0;32m     52\u001b[0m path\u001b[38;5;241m.\u001b[39mwrite(P\u001b[38;5;241m.\u001b[39mto_string())\n\u001b[0;32m     53\u001b[0m \u001b[38;5;28;01mreturn\u001b[39;00m\n",
      "File \u001b[1;32m~\\anaconda3\\lib\\site-packages\\networkx\\drawing\\nx_pydot.py:279\u001b[0m, in \u001b[0;36mto_pydot\u001b[1;34m(N)\u001b[0m\n\u001b[0;32m    273\u001b[0m str_edgedata \u001b[38;5;241m=\u001b[39m {\u001b[38;5;28mstr\u001b[39m(k): \u001b[38;5;28mstr\u001b[39m(v) \u001b[38;5;28;01mfor\u001b[39;00m k, v \u001b[38;5;129;01min\u001b[39;00m edgedata\u001b[38;5;241m.\u001b[39mitems() \u001b[38;5;28;01mif\u001b[39;00m k \u001b[38;5;241m!=\u001b[39m \u001b[38;5;124m\"\u001b[39m\u001b[38;5;124mkey\u001b[39m\u001b[38;5;124m\"\u001b[39m}\n\u001b[0;32m    274\u001b[0m u, v \u001b[38;5;241m=\u001b[39m \u001b[38;5;28mstr\u001b[39m(u), \u001b[38;5;28mstr\u001b[39m(v)\n\u001b[0;32m    275\u001b[0m raise_error \u001b[38;5;241m=\u001b[39m (\n\u001b[0;32m    276\u001b[0m     _check_colon_quotes(u)\n\u001b[0;32m    277\u001b[0m     \u001b[38;5;129;01mor\u001b[39;00m _check_colon_quotes(v)\n\u001b[0;32m    278\u001b[0m     \u001b[38;5;129;01mor\u001b[39;00m (\n\u001b[1;32m--> 279\u001b[0m         \u001b[38;5;28;43many\u001b[39;49m\u001b[43m(\u001b[49m\n\u001b[0;32m    280\u001b[0m \u001b[43m            \u001b[49m\u001b[43m(\u001b[49m\u001b[43m_check_colon_quotes\u001b[49m\u001b[43m(\u001b[49m\u001b[43mk\u001b[49m\u001b[43m)\u001b[49m\u001b[43m \u001b[49m\u001b[38;5;129;43;01mor\u001b[39;49;00m\u001b[43m \u001b[49m\u001b[43m_check_colon_quotes\u001b[49m\u001b[43m(\u001b[49m\u001b[43mv\u001b[49m\u001b[43m)\u001b[49m\u001b[43m)\u001b[49m\n\u001b[0;32m    281\u001b[0m \u001b[43m            \u001b[49m\u001b[38;5;28;43;01mfor\u001b[39;49;00m\u001b[43m \u001b[49m\u001b[43mk\u001b[49m\u001b[43m,\u001b[49m\u001b[43m \u001b[49m\u001b[43mv\u001b[49m\u001b[43m \u001b[49m\u001b[38;5;129;43;01min\u001b[39;49;00m\u001b[43m \u001b[49m\u001b[43medgedata\u001b[49m\u001b[38;5;241;43m.\u001b[39;49m\u001b[43mitems\u001b[49m\u001b[43m(\u001b[49m\u001b[43m)\u001b[49m\n\u001b[0;32m    282\u001b[0m \u001b[43m        \u001b[49m\u001b[43m)\u001b[49m\n\u001b[0;32m    283\u001b[0m     )\n\u001b[0;32m    284\u001b[0m )\n\u001b[0;32m    285\u001b[0m \u001b[38;5;28;01mif\u001b[39;00m raise_error:\n\u001b[0;32m    286\u001b[0m     \u001b[38;5;28;01mraise\u001b[39;00m \u001b[38;5;167;01mValueError\u001b[39;00m(\n\u001b[0;32m    287\u001b[0m         \u001b[38;5;124mf\u001b[39m\u001b[38;5;124m'\u001b[39m\u001b[38;5;124mNode names and attributes should not contain \u001b[39m\u001b[38;5;124m\"\u001b[39m\u001b[38;5;124m:\u001b[39m\u001b[38;5;124m\"\u001b[39m\u001b[38;5;124m unless they are quoted with \u001b[39m\u001b[38;5;124m\"\u001b[39m\u001b[38;5;124m\"\u001b[39m\u001b[38;5;124m.\u001b[39m\u001b[38;5;130;01m\\\u001b[39;00m\n\u001b[0;32m    288\u001b[0m \u001b[38;5;124m        For example the string \u001b[39m\u001b[38;5;130;01m\\'\u001b[39;00m\u001b[38;5;124mattribute:data1\u001b[39m\u001b[38;5;130;01m\\'\u001b[39;00m\u001b[38;5;124m should be written as \u001b[39m\u001b[38;5;130;01m\\'\u001b[39;00m\u001b[38;5;124m\"\u001b[39m\u001b[38;5;124mattribute:data1\u001b[39m\u001b[38;5;124m\"\u001b[39m\u001b[38;5;130;01m\\'\u001b[39;00m\u001b[38;5;124m.\u001b[39m\u001b[38;5;130;01m\\\u001b[39;00m\n\u001b[0;32m    289\u001b[0m \u001b[38;5;124m        Please refer https://github.com/pydot/pydot/issues/258\u001b[39m\u001b[38;5;124m'\u001b[39m\n\u001b[0;32m    290\u001b[0m     )\n",
      "File \u001b[1;32m~\\anaconda3\\lib\\site-packages\\networkx\\drawing\\nx_pydot.py:280\u001b[0m, in \u001b[0;36m<genexpr>\u001b[1;34m(.0)\u001b[0m\n\u001b[0;32m    273\u001b[0m str_edgedata \u001b[38;5;241m=\u001b[39m {\u001b[38;5;28mstr\u001b[39m(k): \u001b[38;5;28mstr\u001b[39m(v) \u001b[38;5;28;01mfor\u001b[39;00m k, v \u001b[38;5;129;01min\u001b[39;00m edgedata\u001b[38;5;241m.\u001b[39mitems() \u001b[38;5;28;01mif\u001b[39;00m k \u001b[38;5;241m!=\u001b[39m \u001b[38;5;124m\"\u001b[39m\u001b[38;5;124mkey\u001b[39m\u001b[38;5;124m\"\u001b[39m}\n\u001b[0;32m    274\u001b[0m u, v \u001b[38;5;241m=\u001b[39m \u001b[38;5;28mstr\u001b[39m(u), \u001b[38;5;28mstr\u001b[39m(v)\n\u001b[0;32m    275\u001b[0m raise_error \u001b[38;5;241m=\u001b[39m (\n\u001b[0;32m    276\u001b[0m     _check_colon_quotes(u)\n\u001b[0;32m    277\u001b[0m     \u001b[38;5;129;01mor\u001b[39;00m _check_colon_quotes(v)\n\u001b[0;32m    278\u001b[0m     \u001b[38;5;129;01mor\u001b[39;00m (\n\u001b[0;32m    279\u001b[0m         \u001b[38;5;28many\u001b[39m(\n\u001b[1;32m--> 280\u001b[0m             (_check_colon_quotes(k) \u001b[38;5;129;01mor\u001b[39;00m \u001b[43m_check_colon_quotes\u001b[49m\u001b[43m(\u001b[49m\u001b[43mv\u001b[49m\u001b[43m)\u001b[49m)\n\u001b[0;32m    281\u001b[0m             \u001b[38;5;28;01mfor\u001b[39;00m k, v \u001b[38;5;129;01min\u001b[39;00m edgedata\u001b[38;5;241m.\u001b[39mitems()\n\u001b[0;32m    282\u001b[0m         )\n\u001b[0;32m    283\u001b[0m     )\n\u001b[0;32m    284\u001b[0m )\n\u001b[0;32m    285\u001b[0m \u001b[38;5;28;01mif\u001b[39;00m raise_error:\n\u001b[0;32m    286\u001b[0m     \u001b[38;5;28;01mraise\u001b[39;00m \u001b[38;5;167;01mValueError\u001b[39;00m(\n\u001b[0;32m    287\u001b[0m         \u001b[38;5;124mf\u001b[39m\u001b[38;5;124m'\u001b[39m\u001b[38;5;124mNode names and attributes should not contain \u001b[39m\u001b[38;5;124m\"\u001b[39m\u001b[38;5;124m:\u001b[39m\u001b[38;5;124m\"\u001b[39m\u001b[38;5;124m unless they are quoted with \u001b[39m\u001b[38;5;124m\"\u001b[39m\u001b[38;5;124m\"\u001b[39m\u001b[38;5;124m.\u001b[39m\u001b[38;5;130;01m\\\u001b[39;00m\n\u001b[0;32m    288\u001b[0m \u001b[38;5;124m        For example the string \u001b[39m\u001b[38;5;130;01m\\'\u001b[39;00m\u001b[38;5;124mattribute:data1\u001b[39m\u001b[38;5;130;01m\\'\u001b[39;00m\u001b[38;5;124m should be written as \u001b[39m\u001b[38;5;130;01m\\'\u001b[39;00m\u001b[38;5;124m\"\u001b[39m\u001b[38;5;124mattribute:data1\u001b[39m\u001b[38;5;124m\"\u001b[39m\u001b[38;5;130;01m\\'\u001b[39;00m\u001b[38;5;124m.\u001b[39m\u001b[38;5;130;01m\\\u001b[39;00m\n\u001b[0;32m    289\u001b[0m \u001b[38;5;124m        Please refer https://github.com/pydot/pydot/issues/258\u001b[39m\u001b[38;5;124m'\u001b[39m\n\u001b[0;32m    290\u001b[0m     )\n",
      "File \u001b[1;32m~\\anaconda3\\lib\\site-packages\\networkx\\drawing\\nx_pydot.py:199\u001b[0m, in \u001b[0;36m_check_colon_quotes\u001b[1;34m(s)\u001b[0m\n\u001b[0;32m    195\u001b[0m \u001b[38;5;28;01mdef\u001b[39;00m \u001b[38;5;21m_check_colon_quotes\u001b[39m(s):\n\u001b[0;32m    196\u001b[0m     \u001b[38;5;66;03m# A quick helper function to check if a string has a colon in it\u001b[39;00m\n\u001b[0;32m    197\u001b[0m     \u001b[38;5;66;03m# and if it is quoted properly with double quotes.\u001b[39;00m\n\u001b[0;32m    198\u001b[0m     \u001b[38;5;66;03m# refer https://github.com/pydot/pydot/issues/258\u001b[39;00m\n\u001b[1;32m--> 199\u001b[0m     \u001b[38;5;28;01mreturn\u001b[39;00m \u001b[38;5;124;43m\"\u001b[39;49m\u001b[38;5;124;43m:\u001b[39;49m\u001b[38;5;124;43m\"\u001b[39;49m\u001b[43m \u001b[49m\u001b[38;5;129;43;01min\u001b[39;49;00m\u001b[43m \u001b[49m\u001b[43ms\u001b[49m \u001b[38;5;129;01mand\u001b[39;00m (s[\u001b[38;5;241m0\u001b[39m] \u001b[38;5;241m!=\u001b[39m \u001b[38;5;124m'\u001b[39m\u001b[38;5;124m\"\u001b[39m\u001b[38;5;124m'\u001b[39m \u001b[38;5;129;01mor\u001b[39;00m s[\u001b[38;5;241m-\u001b[39m\u001b[38;5;241m1\u001b[39m] \u001b[38;5;241m!=\u001b[39m \u001b[38;5;124m'\u001b[39m\u001b[38;5;124m\"\u001b[39m\u001b[38;5;124m'\u001b[39m)\n",
      "\u001b[1;31mTypeError\u001b[0m: argument of type 'float' is not iterable"
     ]
    },
    {
     "data": {
      "image/png": "[encoded data removed]",
      "text/plain": [
       "<Figure size 640x480 with 1 Axes>"
      ]
     },
     "metadata": {},
     "output_type": "display_data"
    }
   ],
   "source": [
    "import numpy as np\n",
    "import pandas as pd\n",
    "import networkx as nx\n",
    "import matplotlib.pyplot as plot\n",
    "%matplotlib inline\n",
    "\n",
    "states = ['sleeping', 'eating', 'pooping']\n",
    "pi = [0.45, 0.35, 0.2]\n",
    "state_space = pd.Series(pi, index=states, name='states')\n",
    "print(state_space)\n",
    "print(state_space.sum())\n",
    "q_df = pd.DataFrame(columns=states, index=states)\n",
    "q_df.loc[states[0]] = [0.4, 0.2, 0.4]\n",
    "q_df.loc[states[1]] = [0.40, 0.40, 0.2]\n",
    "q_df.loc[states[2]] = [0.40, 0.20, .4]\n",
    "\n",
    "print(q_df)\n",
    "\n",
    "q_f = q_df.values\n",
    "print('\\n', q_f, q_f.shape, '\\n')\n",
    "print(q_df.sum(axis=1))\n",
    "from pprint import pprint \n",
    "\n",
    "def _get_markov_edges(Q):\n",
    "    edge = {}\n",
    "    for column in Q.columns:\n",
    "        for index in Q.index:\n",
    "            edge[(index,column)] = Q.loc[index,column]\n",
    "    return edge\n",
    "\n",
    "edge_wt = _get_markov_edges(q_df)\n",
    "pprint(edge_wt)\n",
    "Graph = nx.MultiDiGraph()\n",
    "\n",
    "\n",
    "Graph.add_nodes_from(states)\n",
    "print(f'Nodes:\\n{Graph.nodes()}\\n')\n",
    "\n",
    "\n",
    "for k, v in edge_wt.items():\n",
    "    tmp_origin, tmp_destination = k[0], k[1]\n",
    "    Graph.add_edge(tmp_origin, tmp_destination, weight=v, label=v)\n",
    "print(f'Edges:')\n",
    "pprint(Graph.edges(data=True))    \n",
    "\n",
    "position = nx.drawing.nx_agraph.graphviz_layout(Graph, prog='dot')\n",
    "nx.draw_networkx(Graph, position)\n",
    "\n",
    "\n",
    "edge_labels = {(n1,n2):d['label'] for n1,n2,d in Graph.edges(data=True)}\n",
    "nx.draw_networkx_edge_labels(Graph , position, edge_labels=edge_labels)\n",
    "nx.drawing.nx_pydot.write_dot(Graph, 'pet_dog_markov.dot')"
   ]
  },
  {
   "cell_type": "code",
   "execution_count": null,
   "id": "abfc398e-149e-47af-8922-ab4e7fe7bb04",
   "metadata": {},
   "outputs": [],
   "source": []
  }
 ],
 "metadata": {
  "kernelspec": {
   "display_name": "Python 3 (ipykernel)",
   "language": "python",
   "name": "python3"
  },
  "language_info": {
   "codemirror_mode": {
    "name": "ipython",
    "version": 3
   },
   "file_extension": ".py",
   "mimetype": "text/x-python",
   "name": "python",
   "nbconvert_exporter": "python",
   "pygments_lexer": "ipython3",
   "version": "3.10.9"
  }
 },
 "nbformat": 4,
 "nbformat_minor": 5
}
